{
  "cells": [
    {
      "cell_type": "markdown",
      "source": [
        "#開始"
      ],
      "metadata": {
        "id": "a2GkfPDp3PPV"
      }
    },
    {
      "cell_type": "code",
      "source": [
        "import csv\n",
        "import pandas as pd\n",
        "import os\n",
        "import glob\n",
        "encoding = 'SHIFT_JIS'\n",
        "import matplotlib.pyplot as plt\n",
        "import matplotlib.colors as mcolors\n",
        "import numpy as np\n",
        "#files = glob.glob('/content/*.csv')\n",
        "files = os.listdir('/content')\n",
        "for file in files:\n",
        "  print(file)"
      ],
      "metadata": {
        "id": "opJICkZrhZip",
        "colab": {
          "base_uri": "https://localhost:8080/"
        },
        "outputId": "0888bf96-a9f2-426c-b03d-67d4f6cf14bc"
      },
      "execution_count": null,
      "outputs": [
        {
          "output_type": "stream",
          "name": "stdout",
          "text": [
            ".config\n",
            "4-7min 417um 550rpm.csv\n",
            "24102902btmlettr.csv(z) (3).csv\n",
            "sample_data\n"
          ]
        }
      ]
    },
    {
      "cell_type": "markdown",
      "source": [
        "### グラフ表示"
      ],
      "metadata": {
        "id": "eUnHm9sfBNtg"
      }
    },
    {
      "cell_type": "code",
      "source": [
        "file_name = \"4-7min 417um 550rpm.csv\" # @param {type:\"string\"}\n",
        "t = 0 # @param {type:\"number\"}\n",
        "#0.4152\n",
        "df = pd.read_csv(\"/content/\"+file_name, encoding=encoding, skiprows=15)#\n",
        "df = df.drop(df.columns[[0, 0]], axis=1)\n",
        "df = df - t\n",
        "df[(df<=0)] = 0\n",
        "\n",
        "m = df.median().median()#df[(df>=m-w)&(df<=m+w)] = m\n",
        "#df.to_csv(file_name+'(z).csv', index=False)\n",
        "#df = df - m"
      ],
      "metadata": {
        "id": "0qRYJWbd6tl7"
      },
      "execution_count": null,
      "outputs": []
    },
    {
      "source": [
        "#x = 0.005 # @param {type:\"number\"}\n",
        "#df[(df<=-x)] = -x##df = df.iloc[3:-2, 4:-4]df[0,0] = -x\n",
        "#df[(df>=m+x)] = m+x\n",
        "#df[(df<=m-x)] = m-x\n",
        "color = \"seismic\" # @param {type:\"string\"}\n",
        "l = 10 # @param {type:\"number\"}\n",
        "cmap = plt.get_cmap(color)\n",
        "plt.figure(figsize=(5, 4))\n",
        "w=0.005\n",
        "x=0.05\n",
        "\n",
        "plt.contourf(df.values,cmap=cmap,levels=l)\n",
        "plt.colorbar(label='µm')#plt.axis('scaled')\n",
        "#plt.imshow(df.values,aspect=1,cmap=cmap)\n",
        "plt.axis(\"off\")\n",
        "plt.xticks(np.arange(0, df.shape[1], 5))\n",
        "plt.yticks(np.arange(0, df.shape[0], 5))\n",
        "\n",
        "#plt.grid()\n",
        "print(file_name+\".png\")\n",
        "print(m)\n",
        "print(df.shape)\n",
        "plt.show()"
      ],
      "cell_type": "code",
      "metadata": {
        "id": "KXS_CeemUTgJ",
        "colab": {
          "base_uri": "https://localhost:8080/",
          "height": 405
        },
        "outputId": "674a4a3e-2b5d-4316-cbe4-d2dfc2a8832b"
      },
      "execution_count": null,
      "outputs": [
        {
          "output_type": "stream",
          "name": "stdout",
          "text": [
            "4-7min 417um 550rpm.csv.png\n",
            "0.54541\n",
            "(46, 92)\n"
          ]
        },
        {
          "output_type": "display_data",
          "data": {
            "text/plain": [
              "<Figure size 500x400 with 2 Axes>"
            ],
            "image/png": "[encoded data removed]"
          },
          "metadata": {}
        }
      ]
    },
    {
      "cell_type": "code",
      "source": [
        "#df[(df>=m-w)&(df<=m+w)] = m\n",
        "df.iloc[0,0] = m-x\n",
        "df.iloc[0,1] = m+x\n",
        "df[(df>=m+x)] = m+x\n",
        "df[(df<=m-x)] = m-x"
      ],
      "metadata": {
        "id": "4opP6fx0rhKG"
      },
      "execution_count": null,
      "outputs": []
    },
    {
      "cell_type": "markdown",
      "source": [
        "### 収率計算"
      ],
      "metadata": {
        "id": "_Q-y1Sg3sws4"
      }
    },
    {
      "cell_type": "code",
      "source": [
        "w=0.003\n",
        "p = df.iloc[6:-6,6:-6][(df>=m-w)&(df<=m+w)].count().sum() /df.iloc[6:-6,6:-6].size\n",
        "#p = df.iloc[6:-6,9:-9][(df>=-w)&(df<=w)].count().sum() /df.iloc[6:-6,9:-9].size\n",
        "print(p)"
      ],
      "metadata": {
        "id": "VUo9J1DNr3L1",
        "outputId": "bc04343a-7ca2-4150-abf1-e8a639196269",
        "colab": {
          "base_uri": "https://localhost:8080/"
        }
      },
      "execution_count": null,
      "outputs": [
        {
          "output_type": "stream",
          "name": "stdout",
          "text": [
            "0.8318367346938775\n"
          ]
        }
      ]
    },
    {
      "cell_type": "code",
      "source": [
        "df.to_csv(file_name+'(z).csv', index=False)\n"
      ],
      "metadata": {
        "id": "ThQhERCiHRgi"
      },
      "execution_count": null,
      "outputs": []
    },
    {
      "cell_type": "markdown",
      "source": [
        "### memo"
      ],
      "metadata": {
        "id": "murejdBxzXOC"
      }
    },
    {
      "cell_type": "code",
      "source": [
        "dfa = pd.DataFrame(index=np.arange(10), columns=np.arange(10))\n",
        "for i in range(10):\n",
        "    for j in range(10):\n",
        "        max=df.iloc[i*5:i*5+4, j*10:j*10+9].max().max()\n",
        "        min=df.iloc[i*5:i*5+4, j*10:j*10+9].min().min()\n",
        "        men=df.iloc[i*5:i*5+4, j*10:j*10+9].mean().mean()\n",
        "        dfa.iloc[i, j] = (max-min)/men"
      ],
      "metadata": {
        "id": "tUdFQFFUM8_A",
        "colab": {
          "base_uri": "https://localhost:8080/"
        },
        "outputId": "b119c7f1-6739-451c-bc32-59d093f82d77"
      },
      "execution_count": null,
      "outputs": [
        {
          "output_type": "stream",
          "name": "stderr",
          "text": [
            "<ipython-input-58-f3f39e829217>:7: RuntimeWarning: invalid value encountered in scalar divide\n",
            "  dfa.iloc[i, j] = (max-min)/men\n"
          ]
        }
      ]
    },
    {
      "cell_type": "code",
      "source": [
        "dfa = pd.DataFrame(index=np.arange(10), columns=np.arange(15))\n",
        "for i in range(10):\n",
        "    for j in range(15):\n",
        "  #      dfa.iloc[i, j] = df.iloc[i*3+2:i*3+4, j*250:j*250+300][(df > 0.07)].median().median()\n",
        "        dfa.iloc[i, j] = df.iloc[i*3+2:i*3+4, j*312:j*312+400][(df > 0.07)].median().median()"
      ],
      "metadata": {
        "id": "-DY9vUqyJ8V4"
      },
      "execution_count": null,
      "outputs": []
    },
    {
      "cell_type": "code",
      "source": [
        "dfa = dfa.fillna(0).replace([np.inf, -np.inf], 0)\n",
        "dfa = dfa.apply(pd.to_numeric, errors='coerce').fillna(0)\n",
        "m=dfa.median().median()\n",
        "w=0.005\n",
        "x=0.05\n",
        "dfa[(dfa>=m-w)&(dfa<=m+w)] = m\n",
        "\n",
        "color = \"seismic\"\n",
        "cmap = plt.get_cmap(color)\n",
        "plt.imshow(dfa.values,aspect=1.5,cmap=cmap,vmin=m-x, vmax=m+x)\n",
        "plt.colorbar()\n",
        "\n",
        "plt.axis(\"off\")\n",
        "plt.show()"
      ],
      "metadata": {
        "colab": {
          "base_uri": "https://localhost:8080/",
          "height": 412
        },
        "id": "1q74O6DYQG4n",
        "outputId": "65535e83-63bd-4c86-942a-ddb52b495fb8"
      },
      "execution_count": null,
      "outputs": [
        {
          "output_type": "display_data",
          "data": {
            "text/plain": [
              "<Figure size 640x480 with 2 Axes>"
            ],
            "image/png": "[encoded data removed]"
          },
          "metadata": {}
        }
      ]
    },
    {
      "cell_type": "code",
      "source": [
        "print(dfa)\n",
        "dfa.to_csv(file_name+'(z).csv', index=False)\n",
        "#fig.savefig(\"img.png\",transparent=True)"
      ],
      "metadata": {
        "id": "1MDEYfLPi9ar",
        "colab": {
          "base_uri": "https://localhost:8080/"
        },
        "outputId": "39d3512c-e857-45f1-9b5c-5642e5193605"
      },
      "execution_count": null,
      "outputs": [
        {
          "output_type": "stream",
          "name": "stdout",
          "text": [
            "         0         1         2         3         4         5         6   \\\n",
            "0    0.1089  0.108595   0.11067   0.09785   0.11275  0.102735   0.10902   \n",
            "1   0.10621   0.10859  0.108655   0.10896   0.10872   0.11052   0.11043   \n",
            "2   0.10768  0.111035  0.110365   0.11067   0.11055  0.108655  0.108973   \n",
            "3   0.10487  0.108195   0.10975   0.10982   0.11342  0.113113   0.11238   \n",
            "4   0.10469   0.10728   0.10994   0.10982    0.1158   0.10463  0.112745   \n",
            "5   0.10414   0.10676   0.10682   0.10597  0.111325   0.09532   0.10667   \n",
            "6   0.10609   0.10737  0.109875  0.109935   0.10597   0.11061   0.10969   \n",
            "7   0.10829   0.10798   0.11027   0.11006   0.11073   0.11079   0.10945   \n",
            "8  0.107405   0.10811   0.10881   0.10841   0.10963   0.11226   0.11104   \n",
            "9   0.10603   0.10914   0.10832   0.10823   0.10768   0.10737   0.10963   \n",
            "\n",
            "        7         8         9         10       11        12        13  \\\n",
            "0  0.10713  0.110395   0.10792    0.1064  0.10817  0.106278   0.10896   \n",
            "1  0.10994   0.10884   0.10853    0.1111  0.11116   0.10872   0.10744   \n",
            "2  0.10933   0.10921   0.10933   0.10847  0.10835   0.10896   0.11049   \n",
            "3  0.10701   0.10737   0.10902   0.10951  0.11018    0.1114   0.09785   \n",
            "4  0.11415   0.11207  0.109785   0.11149   0.1064  0.106185   0.10771   \n",
            "5  0.10676   0.10914   0.08378   0.09212  0.10963   0.10838   0.10847   \n",
            "6  0.10921  0.108625   0.11262    0.1114  0.11009   0.10954    0.1103   \n",
            "7     0.11   0.10939   0.10847   0.10844  0.10927   0.11177  0.111065   \n",
            "8  0.11098   0.11098   0.11137    0.1114  0.11137   0.11036   0.10859   \n",
            "9  0.11043  0.111465  0.111645  0.109875  0.10815   0.10637   0.10725   \n",
            "\n",
            "         14  \n",
            "0   0.10972  \n",
            "1   0.10731  \n",
            "2   0.11043  \n",
            "3   0.11098  \n",
            "4   0.10856  \n",
            "5   0.10829  \n",
            "6    0.1078  \n",
            "7  0.109785  \n",
            "8    0.1085  \n",
            "9   0.10744  \n"
          ]
        }
      ]
    },
    {
      "cell_type": "code",
      "source": [
        "plt.hist(dfa.values.flatten(), bins=50)#,range=(0.08,0.12)\n",
        "plt.show()\n",
        "print(dfa.min().min(),dfa.max().max(),dfa.median().median())"
      ],
      "metadata": {
        "id": "QL9VzXANwL8m",
        "colab": {
          "base_uri": "https://localhost:8080/",
          "height": 447
        },
        "outputId": "4b49ea90-714e-4864-9768-a2c1dd98d71b"
      },
      "execution_count": null,
      "outputs": [
        {
          "output_type": "display_data",
          "data": {
            "text/plain": [
              "<Figure size 640x480 with 1 Axes>"
            ],
            "image/png": "[encoded data removed]"
          },
          "metadata": {}
        },
        {
          "output_type": "stream",
          "name": "stdout",
          "text": [
            "0.08378000000000002 0.11580000000000001 0.10939000000000004\n"
          ]
        }
      ]
    },
    {
      "cell_type": "markdown",
      "source": [
        "## 収率"
      ],
      "metadata": {
        "id": "7StVl8i1Tbxk"
      }
    },
    {
      "cell_type": "code",
      "source": [
        "import numpy as np\n",
        "from mpl_toolkits.mplot3d import Axes3D\n",
        "\n",
        "X = df.index.values\n",
        "Y = df.columns.values\n",
        "Z = df.values\n",
        "\n",
        "fig = plt.figure()\n",
        "ax = fig.add_subplot(111, projection='3d')\n",
        "ax.contour3D(Y, X, Z, 100, cmap='seismic')\n",
        "ax.set_ylim(X.min(),X.max())\n",
        "ax.set_xlim(0,120)\n",
        "plt.show()"
      ],
      "metadata": {
        "id": "T0Nu8sGKtQfY"
      },
      "execution_count": null,
      "outputs": []
    },
    {
      "cell_type": "markdown",
      "source": [
        "差分"
      ],
      "metadata": {
        "id": "aIGG1hdJZNyR"
      }
    },
    {
      "cell_type": "code",
      "source": [
        "file_name = \"240930-2.csv\" # @param {type:\"string\"}\n",
        "df = pd.read_csv(\"/content/\"+file_name, encoding=encoding, skiprows=15)#\n",
        "df = df.drop(df.columns[[0, -1]], axis=1)\n",
        "\n",
        "file_name = \"240930-2-dev.csv\" # @param {type:\"string\"}\n",
        "t = 0.733 # @param {type:\"number\"}\n",
        "x = 0.05 # @param {type:\"number\"}\n",
        "dfb=df\n",
        "df = pd.read_csv(\"/content/\"+file_name, encoding=encoding, skiprows=15)#\n",
        "df = df.drop(df.columns[[0, -1]], axis=1)\n",
        "df=dfb-df+t\n",
        "df[(df>x)] = x\n",
        "df[(df<0)] = 0"
      ],
      "metadata": {
        "id": "mrmrIT26XAxW"
      },
      "execution_count": null,
      "outputs": []
    },
    {
      "cell_type": "code",
      "source": [
        "df = df.iloc[8:75, 10:110]\n",
        "#df = df.iloc[:, :-11]\n",
        "#pall = df[(df>=m-w)&(df<=m+w)].count().sum()   /df.size#pinn = df.iloc[9:120,9:120][(df>=m-w)&(df<=m+w)].count().sum() /df.iloc[9:120, 9:120].size#pinn = df.iloc[4:60,9:120][(df>=m-w)&(df<=m+w)].count().sum() /df.iloc[4:60,9:120].size\n",
        "##\n",
        "pall = df.iloc[4:126,9:120][(df>=m-w)&(df<=m+w)].count().sum() /df.iloc[4:126,9:120].size\n",
        "#pall = df.iloc[2:63,9:120][(df>=m-w)&(df<=m+w)].count().sum() /df.iloc[2:63,9:120].size\n",
        "##\n",
        "pinn = df.iloc[9:120,20:105][(df>=m-w)&(df<=m+w)].count().sum() /df.iloc[9:120,20:105].size\n",
        "#pinn = df.iloc[4:60,19:110][(df>=m-w)&(df<=m+w)].count().sum() /df.iloc[4:60,19:110].size\n",
        "##pall =round(pall*100,1)pinn =round(pinn*100,1)\n",
        "#df.iloc[2:63,9:120]=m-x\n",
        "#df.iloc[4:60,19:110]=m+x\n",
        "###\n",
        "##pall = df.iloc[4:126,9:120][(df>=m-w)&(df<=m+w)].count().sum() /df.iloc[4:126,9:120].size\n",
        "#pinn = df.iloc[9:120,20:105][(df>=m-w)&(df<=m+w)].count().sum() /df.iloc[9:120,20:105].size\n",
        "##pall =round(pall*100,1)\n",
        "##pinn =round(pinn*100,1)\n",
        "#plt.title(str(pall)+\" %\", loc='right', color='darkgreen')\n",
        "#plt.title(str(pinn)+\" %\", loc='center', color='black')"
      ],
      "metadata": {
        "id": "pGXGkBoVSfss"
      },
      "execution_count": null,
      "outputs": []
    },
    {
      "cell_type": "code",
      "source": [
        "fig, ax = plt.subplots()\n",
        "cmap = plt.get_cmap('bwr')\n",
        "norm = mcolors.Normalize(vmin=m-x, vmax=m+x)#(vmin=df.min().min(), vmax=df.max().max())\n",
        "\n",
        "im = ax.imshow(df, cmap=cmap, norm=norm)\n",
        "ax.set_title(str(pall)+\" %\", loc='right', color='darkgreen')\n",
        "ax.set_title(str(pinn)+\" %\", loc='center', color='black')\n",
        "print(file_name+\".png\")\n",
        "plt.show()"
      ],
      "metadata": {
        "id": "wj5dZe2Xcp5P"
      },
      "execution_count": null,
      "outputs": []
    },
    {
      "source": [
        "df[(df>=m-w)&(df<=m+w)] = m\n",
        "#df.iloc[23:41, 41:59] = m\n",
        "norm = mcolors.Normalize(vmin=m-x, vmax=m+x)#(vmin=df.min().min(), vmax=df.max().max())\n",
        "cmap = plt.get_cmap('bwr')\n",
        "fig, ax = plt.subplots()\n",
        "im = ax.imshow(df, cmap=cmap, norm=norm)\n",
        "\n",
        "ax.set_xticks(np.arange(0, 131, step=10))\n",
        "ax.set_yticks(np.arange(0, 131, step=10))\n",
        "ax.set_title(str(round(m*1000,1))+\"µ\", loc='left') #makuatsu\n",
        "ax.set_title(str(pall)+\"% 130□\", loc='right')\n",
        "ax.set_title(str(pinn)+\"% 110□\", loc='center')\n",
        "#ax.grid()\n",
        "#ax.set_ylim(10, 140)#ax.set_xlim(-65,65)\n",
        "print(file_name+\".png\")\n",
        "#fig.colorbar(im)\n",
        "plt.show()#"
      ],
      "cell_type": "code",
      "metadata": {
        "id": "X20cT-A6pemc"
      },
      "execution_count": null,
      "outputs": []
    },
    {
      "cell_type": "markdown",
      "source": [
        "等高線"
      ],
      "metadata": {
        "id": "QVybWLFP_vbw"
      }
    },
    {
      "cell_type": "code",
      "source": [
        "fig, ax = plt.subplots()\n",
        "\n",
        "norm = mcolors.Normalize(vmin=m-x, vmax=m+x)\n",
        "cmap = plt.get_cmap('bwr')\n",
        "im = ax.imshow(df, cmap=cmap, norm=norm)\n",
        "#plt.figure(figsize=(5, 4))\n",
        "#ax.set_xticks(np.arange(0, 131, step=10))\n",
        "#ax.set_yticks(np.arange(0, 131, step=10))\n",
        "for i in range(0, 14, 13):\n",
        "    plt.plot([(130-114)/2+i*114/13, (130-114)/2+i*114/13], [(130-122)/2, (130+122)/2],linestyle = \"--\", color='darkgreen', linewidth=2)\n",
        "for j in range(0, 21, 20):\n",
        "    plt.plot([(130-114)/2, (130+114)/2],[(130-122)/2+j*122/20, (130-122)/2+j*122/20],linestyle = \"--\", color='darkgreen', linewidth=2)\n",
        "for i in range(1, 12, 10):\n",
        "    plt.plot([(130-114)/2+i*114/13, (130-114)/2+i*114/13], [(130-110)/2, (130+110)/2],linestyle = \"--\", color='black', linewidth=2)\n",
        "for j in range(1, 20, 18):\n",
        "    plt.plot([(130-95)/2, 104],[(130-122)/2+j*122/20, (130-122)/2+j*122/20],linestyle = \"--\", color='black', linewidth=2)\n",
        "\n",
        "plt.show()"
      ],
      "metadata": {
        "id": "ao6iAhP4igc4"
      },
      "execution_count": null,
      "outputs": []
    }
  ],
  "metadata": {
    "colab": {
      "name": "Colaboratory へようこそ",
      "provenance": []
    },
    "kernelspec": {
      "display_name": "Python 3",
      "name": "python3"
    }
  },
  "nbformat": 4,
  "nbformat_minor": 0
}