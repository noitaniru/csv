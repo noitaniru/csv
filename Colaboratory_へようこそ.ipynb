{
  "cells": [
    {
      "cell_type": "markdown",
      "source": [
        "#開始"
      ],
      "metadata": {
        "id": "a2GkfPDp3PPV"
      }
    },
    {
      "cell_type": "code",
      "source": [
        "import csv\n",
        "import pandas as pd\n",
        "import os\n",
        "import glob\n",
        "encoding = 'SHIFT_JIS'\n",
        "import matplotlib.pyplot as plt\n",
        "import matplotlib.colors as mcolors\n",
        "import numpy as np\n",
        "#files = glob.glob('/content/*.csv')\n",
        "files = os.listdir('/content')\n",
        "for file in files:\n",
        "  print(file)"
      ],
      "metadata": {
        "id": "opJICkZrhZip",
        "outputId": "bae50dbf-af75-4220-b439-f0c334b46f7c",
        "colab": {
          "base_uri": "https://localhost:8080/"
        }
      },
      "execution_count": 1,
      "outputs": [
        {
          "output_type": "stream",
          "name": "stdout",
          "text": [
            ".config\n",
            "240924-500rpm.csv\n",
            "sample_data\n"
          ]
        }
      ]
    },
    {
      "cell_type": "markdown",
      "source": [
        "# データ変更"
      ],
      "metadata": {
        "id": "eUnHm9sfBNtg"
      }
    },
    {
      "cell_type": "code",
      "source": [
        "file_name = \"240924-500rpm.csv\" # @param {type:\"string\"}\n",
        "t = 0 # @param {type:\"number\"}\n",
        "w = 0.4152 # @param {type:\"number\"}\n",
        "x = 0.1 # @param {type:\"number\"}\n",
        "\n",
        "df = pd.read_csv(\"/content/\"+file_name, encoding=encoding, skiprows=15)#\n",
        "df = df.drop(df.columns[[0, -1]], axis=1)\n",
        "df = df - t\n",
        "df[df<=0.0] = 0.00\n",
        "m = df.median().median()#df[(df>=m-w)&(df<=m+w)] = m\n",
        "#df.to_csv(file_name+'(z).csv', index=False)"
      ],
      "metadata": {
        "id": "0qRYJWbd6tl7"
      },
      "execution_count": 2,
      "outputs": []
    },
    {
      "source": [
        "df[(df>=m+x)] = m+x\n",
        "df[(df<=m-x)] = m-x#\n",
        "df.iloc[0,0] = m+x\n",
        "df.iloc[1,0] = m-x\n",
        "\n",
        "cmap = plt.get_cmap('seismic')\n",
        "plt.figure(figsize=(5, 4))\n",
        "plt.contourf( df.values,cmap=cmap,levels=60)\n",
        "plt.colorbar() #plt.axis('scaled')\n",
        "print(file_name+\".png\")\n",
        "plt.show()"
      ],
      "cell_type": "code",
      "metadata": {
        "id": "KXS_CeemUTgJ",
        "outputId": "961053ad-b6b6-4ef8-9fd6-b1e5b4de1763",
        "colab": {
          "base_uri": "https://localhost:8080/",
          "height": 370
        }
      },
      "execution_count": 6,
      "outputs": [
        {
          "output_type": "stream",
          "name": "stdout",
          "text": [
            "240924-500rpm.csv.png\n"
          ]
        },
        {
          "output_type": "display_data",
          "data": {
            "text/plain": [
              "<Figure size 500x400 with 2 Axes>"
            ],
            "image/png": "[encoded data removed]"
          },
          "metadata": {}
        }
      ]
    },
    {
      "cell_type": "code",
      "source": [
        "print(df.iloc[60,40])\n",
        "print(m)"
      ],
      "metadata": {
        "colab": {
          "base_uri": "https://localhost:8080/"
        },
        "id": "T0Nu8sGKtQfY",
        "outputId": "20ba57d0-b3d3-4a6d-d571-fac978ec6113"
      },
      "execution_count": 5,
      "outputs": [
        {
          "output_type": "stream",
          "name": "stdout",
          "text": [
            "0.10461\n",
            "0.106765\n"
          ]
        }
      ]
    },
    {
      "cell_type": "markdown",
      "source": [
        "## 収率"
      ],
      "metadata": {
        "id": "7StVl8i1Tbxk"
      }
    },
    {
      "cell_type": "code",
      "source": [
        "df = df.iloc[8:75, 10:110]\n",
        "#df = df.iloc[:, :-11]\n",
        "#pall = df[(df>=m-w)&(df<=m+w)].count().sum()   /df.size#pinn = df.iloc[9:120,9:120][(df>=m-w)&(df<=m+w)].count().sum() /df.iloc[9:120, 9:120].size#pinn = df.iloc[4:60,9:120][(df>=m-w)&(df<=m+w)].count().sum() /df.iloc[4:60,9:120].size\n",
        "##\n",
        "pall = df.iloc[4:126,9:120][(df>=m-w)&(df<=m+w)].count().sum() /df.iloc[4:126,9:120].size\n",
        "#pall = df.iloc[2:63,9:120][(df>=m-w)&(df<=m+w)].count().sum() /df.iloc[2:63,9:120].size\n",
        "##\n",
        "pinn = df.iloc[9:120,20:105][(df>=m-w)&(df<=m+w)].count().sum() /df.iloc[9:120,20:105].size\n",
        "#pinn = df.iloc[4:60,19:110][(df>=m-w)&(df<=m+w)].count().sum() /df.iloc[4:60,19:110].size\n",
        "##pall =round(pall*100,1)pinn =round(pinn*100,1)\n",
        "#df.iloc[2:63,9:120]=m-x\n",
        "#df.iloc[4:60,19:110]=m+x\n",
        "###\n",
        "##pall = df.iloc[4:126,9:120][(df>=m-w)&(df<=m+w)].count().sum() /df.iloc[4:126,9:120].size\n",
        "#pinn = df.iloc[9:120,20:105][(df>=m-w)&(df<=m+w)].count().sum() /df.iloc[9:120,20:105].size\n",
        "##pall =round(pall*100,1)\n",
        "##pinn =round(pinn*100,1)\n",
        "#plt.title(str(pall)+\" %\", loc='right', color='darkgreen')\n",
        "#plt.title(str(pinn)+\" %\", loc='center', color='black')"
      ],
      "metadata": {
        "id": "pGXGkBoVSfss"
      },
      "execution_count": null,
      "outputs": []
    },
    {
      "cell_type": "code",
      "source": [
        "fig, ax = plt.subplots()\n",
        "norm = mcolors.Normalize(vmin=m-x, vmax=m+x)#(vmin=df.min().min(), vmax=df.max().max())\n",
        "df[(df>=m-w)&(df<=m+w)] = m\n",
        "im = ax.imshow(df, cmap=cmap, norm=norm)\n",
        "ax.set_xticks(np.arange(0, 131, step=10))\n",
        "ax.set_yticks(np.arange(0, 131, step=10))\n",
        "\n",
        "for i in range(0, 14, 1):\n",
        "    plt.plot([(130-114)/2+i*114/13, (130-114)/2+i*114/13], [(130-122)/2, (130+122)/2], color='darkgreen', linewidth=1)\n",
        "for j in range(0, 21, 1):\n",
        "    plt.plot([(130-114)/2, (130+114)/2],[(130-122)/2+j*122/20, (130-122)/2+j*122/20], color='darkgreen', linewidth=1)\n",
        "for i in range(1, 12, 1):\n",
        "    plt.plot([(130-114)/2+i*114/13, (130-114)/2+i*114/13], [(130-110)/2, (130+110)/2], color='black', linewidth=2)\n",
        "for j in range(1, 20, 1):\n",
        "    plt.plot([(130-95)/2, 104],[(130-122)/2+j*122/20, (130-122)/2+j*122/20], color='black', linewidth=2)\n",
        "\n",
        "ax.set_title(str(round(m*1000,1))+\"µ\", loc='left') #makuatsu\n",
        "ax.set_title(str(pall)+\"% 130□\", loc='right')\n",
        "ax.set_title(str(pinn)+\"% 110□\", loc='center')\n",
        "fig.colorbar(im)\n",
        "plt.show()"
      ],
      "metadata": {
        "id": "VyOr6K9ylxDr"
      },
      "execution_count": null,
      "outputs": []
    },
    {
      "cell_type": "code",
      "source": [
        "fig, ax = plt.subplots()\n",
        "cmap = plt.get_cmap('bwr')\n",
        "norm = mcolors.Normalize(vmin=m-x, vmax=m+x)#(vmin=df.min().min(), vmax=df.max().max())\n",
        "df[(df>=m-w)&(df<=m+w)] = m\n",
        "im = ax.imshow(df, cmap=cmap, norm=norm)\n",
        "ax.set_title(str(pall)+\" %\", loc='right', color='darkgreen')\n",
        "ax.set_title(str(pinn)+\" %\", loc='center', color='black')\n",
        "print(file_name+\".png\")\n",
        "plt.show()"
      ],
      "metadata": {
        "id": "wj5dZe2Xcp5P"
      },
      "execution_count": null,
      "outputs": []
    },
    {
      "source": [
        "df[(df>=m-w)&(df<=m+w)] = m\n",
        "#df.iloc[23:41, 41:59] = m\n",
        "norm = mcolors.Normalize(vmin=m-x, vmax=m+x)#(vmin=df.min().min(), vmax=df.max().max())\n",
        "cmap = plt.get_cmap('bwr')\n",
        "fig, ax = plt.subplots()\n",
        "im = ax.imshow(df, cmap=cmap, norm=norm)\n",
        "\n",
        "ax.set_xticks(np.arange(0, 131, step=10))\n",
        "ax.set_yticks(np.arange(0, 131, step=10))\n",
        "ax.set_title(str(round(m*1000,1))+\"µ\", loc='left') #makuatsu\n",
        "ax.set_title(str(pall)+\"% 130□\", loc='right')\n",
        "ax.set_title(str(pinn)+\"% 110□\", loc='center')\n",
        "#ax.grid()\n",
        "#ax.set_ylim(10, 140)#ax.set_xlim(-65,65)\n",
        "print(file_name+\".png\")\n",
        "#fig.colorbar(im)\n",
        "plt.show()#"
      ],
      "cell_type": "code",
      "metadata": {
        "id": "X20cT-A6pemc"
      },
      "execution_count": null,
      "outputs": []
    },
    {
      "cell_type": "markdown",
      "source": [
        "等高線"
      ],
      "metadata": {
        "id": "QVybWLFP_vbw"
      }
    },
    {
      "cell_type": "code",
      "source": [
        "fig, ax = plt.subplots()\n",
        "df[(df<9)] = m\n",
        "norm = mcolors.Normalize(vmin=m-x, vmax=m+x)\n",
        "cmap = plt.get_cmap('bwr')\n",
        "im = ax.imshow(df, cmap=cmap, norm=norm)\n",
        "#plt.figure(figsize=(5, 4))\n",
        "#ax.set_xticks(np.arange(0, 131, step=10))\n",
        "#ax.set_yticks(np.arange(0, 131, step=10))\n",
        "for i in range(0, 14, 13):\n",
        "    plt.plot([(130-114)/2+i*114/13, (130-114)/2+i*114/13], [(130-122)/2, (130+122)/2],linestyle = \"--\", color='darkgreen', linewidth=2)\n",
        "for j in range(0, 21, 20):\n",
        "    plt.plot([(130-114)/2, (130+114)/2],[(130-122)/2+j*122/20, (130-122)/2+j*122/20],linestyle = \"--\", color='darkgreen', linewidth=2)\n",
        "for i in range(1, 12, 10):\n",
        "    plt.plot([(130-114)/2+i*114/13, (130-114)/2+i*114/13], [(130-110)/2, (130+110)/2],linestyle = \"--\", color='black', linewidth=2)\n",
        "for j in range(1, 20, 18):\n",
        "    plt.plot([(130-95)/2, 104],[(130-122)/2+j*122/20, (130-122)/2+j*122/20],linestyle = \"--\", color='black', linewidth=2)\n",
        "\n",
        "plt.show()"
      ],
      "metadata": {
        "id": "ao6iAhP4igc4"
      },
      "execution_count": null,
      "outputs": []
    },
    {
      "cell_type": "code",
      "source": [
        "plt.hist(df.values.flatten(), bins=50,)#range=(0.02,0.18))\n",
        "plt.show()\n",
        "print(df.min().min(),df.max().max())"
      ],
      "metadata": {
        "id": "QL9VzXANwL8m"
      },
      "execution_count": null,
      "outputs": []
    },
    {
      "cell_type": "code",
      "source": [
        "cmap = plt.get_cmap('RdPu')\n",
        "plt.figure(figsize=(5, 130))\n",
        "fig, ax = plt.subplots()\n",
        "im = ax.imshow(df, cmap=cmap,norm=norm)\n",
        "fig.colorbar(im)\n",
        "plt.show()#"
      ],
      "metadata": {
        "id": "GLTB4QpfQsFy"
      },
      "execution_count": null,
      "outputs": []
    },
    {
      "cell_type": "code",
      "source": [
        "df.to_csv(file_name+'(z).csv', index=False)\n",
        "#fig.savefig(\"img.png\",transparent=True)"
      ],
      "metadata": {
        "id": "1MDEYfLPi9ar"
      },
      "execution_count": null,
      "outputs": []
    }
  ],
  "metadata": {
    "colab": {
      "name": "Colaboratory へようこそ",
      "provenance": []
    },
    "kernelspec": {
      "display_name": "Python 3",
      "name": "python3"
    }
  },
  "nbformat": 4,
  "nbformat_minor": 0
}