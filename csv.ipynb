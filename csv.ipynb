{
  "cells": [
    {
      "cell_type": "markdown",
      "source": [
        "#開始"
      ],
      "metadata": {
        "id": "a2GkfPDp3PPV"
      }
    },
    {
      "cell_type": "code",
      "source": [
        "import csv\n",
        "import pandas as pd\n",
        "import os\n",
        "import glob\n",
        "encoding = 'SHIFT_JIS'\n",
        "import matplotlib.pyplot as plt\n",
        "import matplotlib.colors as mcolors\n",
        "import numpy as np"
      ],
      "metadata": {
        "id": "opJICkZrhZip"
      },
      "execution_count": 1,
      "outputs": []
    },
    {
      "cell_type": "code",
      "source": [
        "files = glob.glob('/content/*.csv')\n",
        "for file in files:\n",
        "  print(file)"
      ],
      "metadata": {
        "id": "l50eBzxz3dZE",
        "outputId": "9c776119-591a-4fe0-979c-8368365a2cff",
        "colab": {
          "base_uri": "https://localhost:8080/"
        }
      },
      "execution_count": 65,
      "outputs": [
        {
          "output_type": "stream",
          "name": "stdout",
          "text": [
            "/content/62602.csv(z).csv\n",
            "/content/240305-1_130_10.csv\n",
            "/content/62601.csv(z).csv\n",
            "/content/62603.csv\n",
            "/content/240305-2_130_10.csv\n",
            "/content/62603.csv(z).csv\n",
            "/content/62601.csv\n",
            "/content/62602.csv\n"
          ]
        }
      ]
    },
    {
      "cell_type": "markdown",
      "source": [
        "# データ変更"
      ],
      "metadata": {
        "id": "eUnHm9sfBNtg"
      }
    },
    {
      "cell_type": "code",
      "source": [
        "file_name = \"/content/240305-2_130_10.csv\" # @param {type:\"string\"}\n",
        "t = 0.0 # @param {type:\"number\"}\n",
        "w = 0.003 # @param {type:\"number\"}\n",
        "\n",
        "df = pd.read_csv(file_name, encoding=encoding, skiprows=15)\n",
        "df = df.drop(df.columns[0], axis=1)\n",
        "df = df.drop(df.columns[-1], axis=1)\n",
        "df = df - t\n",
        "\n",
        "m = round(df.median().median(),4)\n",
        "df[(df >= m-w) & (df <= m+w)] = m\n",
        "sf = ((df >= m-w) & (df <= m+w)).sum().sum()\n",
        "sa = sf/(df <= 1).sum().sum()\n",
        "#df.to_csv(file_name+'(z).csv', index=False)"
      ],
      "metadata": {
        "id": "0qRYJWbd6tl7"
      },
      "execution_count": 101,
      "outputs": []
    },
    {
      "source": [
        "max = 0.01 # @param {type:\"number\"}\n",
        "norm = mcolors.Normalize(vmin=m-max, vmax=m+max)#(vmin=df.min().min(), vmax=df.max().max())\n",
        "cmap = plt.get_cmap('bwr')\n",
        "\n",
        "fig, ax = plt.subplots()\n",
        "im = ax.imshow(df, cmap=cmap, norm=norm)\n",
        "ax.set_xticks(np.arange(0, 131, step=10))\n",
        "ax.set_yticks(np.arange(0, 131, step=10))\n",
        "ax.set_title(str(m*1000)+\" +- \"+str(w*1000)+\" µm\", loc='center')\n",
        "#ax.set_title( file_name, loc='left')\n",
        "ax.set_title(str(round(sa*100,1))+\"%\", loc='right')\n",
        "ax.grid()\n",
        "#ax.set_xlim(-65,65)\n",
        "#ax.set_ylim(0, 65)\n",
        "#fig.colorbar(im)\n",
        "plt.show()"
      ],
      "cell_type": "code",
      "metadata": {
        "id": "X20cT-A6pemc"
      },
      "execution_count": null,
      "outputs": []
    },
    {
      "cell_type": "code",
      "source": [
        "fig.savefig('my_graph.png')"
      ],
      "metadata": {
        "id": "gI18D9DT5Wz0",
        "outputId": "992aae83-a7b2-49e8-e771-d873da1b93f5",
        "colab": {
          "base_uri": "https://localhost:8080/",
          "height": 35
        }
      },
      "execution_count": 76,
      "outputs": [
        {
          "output_type": "display_data",
          "data": {
            "text/plain": [
              "<Figure size 640x480 with 0 Axes>"
            ]
          },
          "metadata": {}
        }
      ]
    },
    {
      "cell_type": "code",
      "source": [
        "file_name = \"/content/62603.csv\"\n",
        "glass_t = 0.5\n",
        "\n",
        "df = pd.read_csv(file_name, encoding=encoding, skiprows=15)\n",
        "df = df.drop(df.columns[0], axis=1)\n",
        "df = df.drop(df.columns[-1], axis=1)\n",
        "df = df - glass_t\n",
        "df.to_csv(file_name+'(a).csv', index=False)"
      ],
      "metadata": {
        "id": "uHmYwDVPp-Nx"
      },
      "execution_count": null,
      "outputs": []
    }
  ],
  "metadata": {
    "colab": {
      "name": "Colaboratory へようこそ",
      "provenance": []
    },
    "kernelspec": {
      "display_name": "Python 3",
      "name": "python3"
    }
  },
  "nbformat": 4,
  "nbformat_minor": 0
}