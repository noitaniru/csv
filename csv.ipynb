{
  "cells": [
    {
      "cell_type": "markdown",
      "source": [
        "#開始"
      ],
      "metadata": {
        "id": "a2GkfPDp3PPV"
      }
    },
    {
      "cell_type": "code",
      "source": [
        "import csv\n",
        "import pandas as pd\n",
        "import os\n",
        "import glob\n",
        "encoding = 'SHIFT_JIS'\n",
        "import matplotlib.pyplot as plt\n",
        "import matplotlib.colors as mcolors\n",
        "import numpy as np"
      ],
      "metadata": {
        "id": "opJICkZrhZip"
      },
      "execution_count": 1,
      "outputs": []
    },
    {
      "cell_type": "code",
      "source": [
        "#files = glob.glob('/content/*.csv')\n",
        "files = os.listdir('/content')\n",
        "for file in files:\n",
        "  print(file)\n"
      ],
      "metadata": {
        "id": "Hi5RMS0KKai2",
        "outputId": "b28e3043-71fd-42be-e41a-7452efcee01b",
        "colab": {
          "base_uri": "https://localhost:8080/"
        }
      },
      "execution_count": 73,
      "outputs": [
        {
          "output_type": "stream",
          "name": "stdout",
          "text": [
            ".config\n",
            "240305-1_130_10.csv\n",
            "062405.csv\n",
            "062602.csv\n",
            "062402.csv\n",
            "062601.csv\n",
            ".ipynb_checkpoints\n",
            "240305-2_130_10.csv\n",
            "062402.csv(z).csv\n",
            "062401.csv\n",
            "062404.csv\n",
            "062603.csv\n",
            "062403.csv\n",
            "sample_data\n"
          ]
        }
      ]
    },
    {
      "cell_type": "markdown",
      "source": [
        "# データ変更"
      ],
      "metadata": {
        "id": "eUnHm9sfBNtg"
      }
    },
    {
      "cell_type": "code",
      "source": [
        "file_name = \"240305-1_130_10.csv\" # @param {type:\"string\"}\n",
        "t = 0.0 # @param {type:\"number\"}\n",
        "w = 0.003 # @param {type:\"number\"}\n",
        "\n",
        "df = pd.read_csv(\"/content/\"+file_name, encoding=encoding, skiprows=15)\n",
        "df = df.drop(df.columns[[0, -1]], axis=1)\n",
        "df = df - t\n",
        "\n",
        "m = df.median().median()\n",
        "m = round(m,5)\n",
        "df[(df>=m-w)&(df<=m+w)] = m\n",
        "#df.to_csv(file_name+'(z).csv', index=False)\n",
        "\n",
        "x = 0.007 # @param {type:\"number\"}\n",
        "pall = df[(df>=m-w)&(df<=m+w)].count().sum()   /df.size\n",
        "pinn = df.iloc[9:120,9:120][(df>=m-w)&(df<=m+w)].count().sum() /df.iloc[9:120, 9:120].size\n",
        "pall =round(pall*100,1)\n",
        "pinn =round(pinn*100,1)\n",
        "print(pall,pinn)"
      ],
      "metadata": {
        "id": "0qRYJWbd6tl7",
        "outputId": "feaacf56-a1ff-49b5-cea6-8b76413bdb5d",
        "colab": {
          "base_uri": "https://localhost:8080/"
        }
      },
      "execution_count": 85,
      "outputs": [
        {
          "output_type": "stream",
          "name": "stdout",
          "text": [
            "81.3 84.0\n"
          ]
        }
      ]
    },
    {
      "cell_type": "code",
      "source": [
        "#df.to_csv(file_name+'(z).csv', index=False)\n",
        "\n",
        "pall = df[(df>=m-w)&(df<=m+w)].count().sum()   /df.size\n",
        "pinn = df.iloc[4:60,9:120][(df>=m-w)&(df<=m+w)].count().sum() /df.iloc[4:60,9:120].size\n",
        "pall =round(pall*100,1)\n",
        "pinn =round(pinn*100,1)"
      ],
      "metadata": {
        "id": "DmzmiGUjW2tn"
      },
      "execution_count": 86,
      "outputs": []
    },
    {
      "source": [
        "norm = mcolors.Normalize(vmin=m-x, vmax=m+x)#(vmin=df.min().min(), vmax=df.max().max())\n",
        "cmap = plt.get_cmap('bwr')\n",
        "fig, ax = plt.subplots()\n",
        "im = ax.imshow(df, cmap=cmap, norm=norm)\n",
        "\n",
        "ax.set_xticks(np.arange(0, 131, step=10))\n",
        "ax.set_yticks(np.arange(0, 131, step=5))\n",
        "ax.set_title(str(round(m*1000,1))+\"µ\", loc='left') #makuatsu\n",
        "ax.set_title(str(pall)+\"% 130□\", loc='right')\n",
        "ax.set_title(str(pinn)+\"% 110□\", loc='center')\n",
        "ax.grid()\n",
        "ax.set_ylim(0, 65)#ax.set_xlim(-65,65)\n",
        "\n",
        "print(file_name+\".png\")\n",
        "plt.show()#fig.colorbar(im)"
      ],
      "cell_type": "code",
      "metadata": {
        "id": "X20cT-A6pemc",
        "outputId": "9f437606-2b41-42f2-935d-75e2cf3bfffb",
        "colab": {
          "base_uri": "https://localhost:8080/",
          "height": 347
        }
      },
      "execution_count": 87,
      "outputs": [
        {
          "output_type": "stream",
          "name": "stdout",
          "text": [
            "240305-1_130_10.csv.png\n"
          ]
        },
        {
          "output_type": "display_data",
          "data": {
            "text/plain": [
              "<Figure size 640x480 with 1 Axes>"
            ],
            "image/png": "[encoded data removed]"
          },
          "metadata": {}
        }
      ]
    },
    {
      "cell_type": "code",
      "source": [
        "fig.savefig('my_graph.png')"
      ],
      "metadata": {
        "id": "gI18D9DT5Wz0"
      },
      "execution_count": 44,
      "outputs": []
    }
  ],
  "metadata": {
    "colab": {
      "name": "Colaboratory へようこそ",
      "provenance": []
    },
    "kernelspec": {
      "display_name": "Python 3",
      "name": "python3"
    }
  },
  "nbformat": 4,
  "nbformat_minor": 0
}