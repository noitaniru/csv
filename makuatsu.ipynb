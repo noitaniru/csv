{
  "cells": [
    {
      "cell_type": "markdown",
      "source": [
        "###開始"
      ],
      "metadata": {
        "id": "a2GkfPDp3PPV"
      }
    },
    {
      "cell_type": "code",
      "source": [
        "import csv\n",
        "import pandas as pd\n",
        "import os\n",
        "import glob\n",
        "encoding = 'SHIFT_JIS'\n",
        "import matplotlib.pyplot as plt\n",
        "import matplotlib.colors as mcolors\n",
        "import numpy as np\n",
        "#files = glob.glob('/content/*.csv')\n",
        "files = os.listdir('/content')\n",
        "for file in files:\n",
        "  print(file)"
      ],
      "metadata": {
        "id": "opJICkZrhZip",
        "colab": {
          "base_uri": "https://localhost:8080/"
        },
        "outputId": "b642fb16-9d57-46da-de3b-20c8ab5bc37b"
      },
      "execution_count": 1,
      "outputs": [
        {
          "output_type": "stream",
          "name": "stdout",
          "text": [
            ".config\n",
            "100103_730.csv\n",
            "100101_730.csv\n",
            "100102_730.csv\n",
            "sample_data\n"
          ]
        }
      ]
    },
    {
      "cell_type": "markdown",
      "source": [
        "### グラフ表示"
      ],
      "metadata": {
        "id": "eUnHm9sfBNtg"
      }
    },
    {
      "cell_type": "code",
      "source": [
        "file_name = \"100103_730.csv\" # @param {type:\"string\"}\n",
        "df = pd.read_csv(\"/content/\"+file_name, encoding=encoding, skiprows=15)#\n",
        "df = df.drop(df.columns[[0, 0]], axis=1)\n",
        "t = 0.73 # @param {type:\"number\"}#\n",
        "df = df - t#0.41520.7263\n",
        "df[(df<=0)] = 0"
      ],
      "metadata": {
        "id": "0qRYJWbd6tl7"
      },
      "execution_count": 59,
      "outputs": []
    },
    {
      "source": [
        "#df=df.iloc[1:-1,1:-1]\n",
        "m = df.median().median()\n",
        "x = m+0.02\n",
        "y = m-0.02\n",
        "df[(df>=x)] = x#\n",
        "df[(df<=y)] = y#\n",
        "df.iloc[0, 0] = x#\n",
        "df.iloc[0, 1] = y\n",
        "w =0.005#\n",
        "v=0.004\n",
        "p = df[(df>=m-w)&(df<=m+w)].count().sum() /df.size#pl=df[(df>=m-wl)&(df<=m+wl)].count().sum() /df.size\n",
        "pv = df[(df>=m-v)&(df<=m+v)].count().sum() /df.size#pl=df[(df>=m-wl)&(df<=m+wl)].count().sum() /df.size\n",
        "color = \"bwr\" # @param {type:\"string\"}#\n",
        "l = 16# @param {type:\"number\"}\n",
        "cmap = plt.get_cmap(color)\n",
        "#\n",
        "df[(df>=m-v)&(df<=m+v)]=m##df=df.iloc[4:-4, 20:-20]#df.iloc[14:-14, 60:-60][(df>=m+wl)]=m#\n",
        "plt.figure(figsize=(5, 4))\n",
        "#plt.imshow(df.values,cmap=cmap,aspect=4, vmin=m+x, vmax=m-x)\n",
        "plt.suptitle(file_name, fontsize=16)\n",
        "plt.contourf(df.values,cmap=cmap,levels=l)\n",
        "plt.colorbar(label='µm')#plt.axis('scaled')label='µm'\n",
        "plt.axis()\n",
        "plt.xticks([])\n",
        "plt.yticks([])\n",
        "plt.show()\n",
        "m,pv,p#print(file_name+\".png\")df.shape"
      ],
      "cell_type": "code",
      "metadata": {
        "id": "KXS_CeemUTgJ",
        "outputId": "7fcea44c-9a7a-4ab1-c643-76c168323178",
        "colab": {
          "base_uri": "https://localhost:8080/",
          "height": 447
        }
      },
      "execution_count": 60,
      "outputs": [
        {
          "output_type": "display_data",
          "data": {
            "text/plain": [
              "<Figure size 500x400 with 2 Axes>"
            ],
            "image/png": "[encoded data removed]"
          },
          "metadata": {}
        },
        {
          "output_type": "execute_result",
          "data": {
            "text/plain": [
              "(0.10172999999999999,\n",
              " np.float64(0.9345756414721932),\n",
              " np.float64(0.9667363288052944))"
            ]
          },
          "metadata": {},
          "execution_count": 60
        }
      ]
    },
    {
      "cell_type": "code",
      "source": [
        "df=df.iloc[1:-1,1:-1]\n",
        "df.shape"
      ],
      "metadata": {
        "id": "K9T9yTe5w_aV",
        "outputId": "3481ba24-0808-46cd-fea9-844fe74363f6",
        "colab": {
          "base_uri": "https://localhost:8080/"
        }
      },
      "execution_count": 48,
      "outputs": [
        {
          "output_type": "execute_result",
          "data": {
            "text/plain": [
              "(64, 260)"
            ]
          },
          "metadata": {},
          "execution_count": 48
        }
      ]
    },
    {
      "cell_type": "code",
      "source": [
        "k=22\n",
        "first_row = df.iloc[k]\n",
        "m = df.iloc[k].median()\n",
        "plt.figure(figsize=(10,2))  # Adjust figure size as needed\n",
        "colors = 'grey'\n",
        "#colors = ['red' if value > m+w else 'blue' if value < m - w else 'black' for value in  first_row.values]\n",
        "plt.bar(first_row.index, first_row.values, width=1, color=colors)\n",
        "plt.xticks(np.arange(0, 280, 10))\n",
        "#plt.grid(axis='x')\n",
        "plt.grid(axis='y')\n",
        "ax = plt.gca()\n",
        "ax.yaxis.tick_right()\n",
        "ax.yaxis.set_label_position('right')\n",
        "#plt.xlabel(\"Column Index\")\n",
        "plt.title(file_name)\n",
        "plt.show()"
      ],
      "metadata": {
        "id": "FGf_VYfnL5RX",
        "outputId": "1da004f5-e207-46c5-f4d8-2d289b0a6fe1",
        "colab": {
          "base_uri": "https://localhost:8080/",
          "height": 237
        }
      },
      "execution_count": null,
      "outputs": [
        {
          "output_type": "display_data",
          "data": {
            "text/plain": [
              "<Figure size 1000x200 with 1 Axes>"
            ],
            "image/png": "[encoded data removed]"
          },
          "metadata": {}
        }
      ]
    },
    {
      "cell_type": "code",
      "source": [
        "k=100\n",
        "first_column = df.iloc[:,k]\n",
        "#m = df.iloc[k].median()\n",
        "wl=m*0.03\n",
        "plt.figure(figsize=(8,3))  # Adjust figure size as needed\n",
        "#colors = ['green' if value > m+wl else  'limegreen' for value in  first_row.values]\n",
        "#\n",
        "colors = ['green' if value > m+wl else 'lime' if value < m - wl else 'limegreen' for value in  first_row.values]\n",
        "#plt.bar(first_row.index, first_row.values, width=1, color=colors)\n",
        "plt.bar(first_column.index, first_column.values, width=1, color=colors)\n",
        "#plt.xticks(np.arange(0, 300, 10))\n",
        "#plt.yticks(np.arange(m - x, m + x + 110.005, 110.005))\n",
        "#plt.xticks(np.arange(0, 50, 10))\n",
        "#plt.grid(axis='x')\n",
        "plt.grid(axis='y')\n",
        "#plt.xlabel(\"Column Index\")\n",
        "plt.title(file_name)\n",
        "plt.show()"
      ],
      "metadata": {
        "id": "MH00mZjV1nNS",
        "outputId": "e8b206c1-9b91-4eaf-c244-3ff67cadebe7",
        "colab": {
          "base_uri": "https://localhost:8080/",
          "height": 314
        }
      },
      "execution_count": null,
      "outputs": [
        {
          "output_type": "display_data",
          "data": {
            "text/plain": [
              "<Figure size 800x300 with 1 Axes>"
            ],
            "image/png": "[encoded data removed]"
          },
          "metadata": {}
        }
      ]
    },
    {
      "cell_type": "code",
      "source": [
        "df.iloc[:,:]=1\n",
        "df.iloc[5:6,:] = 0\n",
        "df.iloc[-6:-5,:] = 0\n",
        "df.iloc[:,20:21] = 0\n",
        "df.iloc[:,-21:-20] = 0\n",
        "plt.figure(figsize=(5, 4))\n",
        "cmap = plt.get_cmap(\"grey\")\n",
        "plt.imshow(df.values,aspect=4,cmap=cmap)\n",
        "plt.colorbar(label='µm')"
      ],
      "metadata": {
        "id": "KVd4DdfYMGka"
      },
      "execution_count": null,
      "outputs": []
    },
    {
      "cell_type": "code",
      "source": [
        "x = 0.01\n",
        "wl=0.004\n",
        "first_column = df.iloc[:,40]\n",
        "plt.figure(figsize=(14,2))  # Adjust figure size as needed\n",
        "colors = ['green' if value > m+wl else 'lime' if value < m - wl else 'limegreen' for value in  first_column.values]\n",
        "\n",
        "plt.bar(first_column.index, first_column.values, width=1, color=colors)\n",
        "plt.ylim(m-x, m+x)\n",
        "plt.yticks(np.arange(m - x, m + x + 0.005, 0.005))\n",
        "plt.xticks(np.arange(0, 150, 10))\n",
        "plt.grid(axis='x')\n",
        "plt.grid(axis='y')\n",
        "plt.grid(linewidth=1.5)\n",
        "#plt.xlabel(\"Column Index\")\n",
        "plt.ylabel(\"e\")\n",
        "plt.title(file_name)\n",
        "plt.show()"
      ],
      "metadata": {
        "id": "WsIt0kgb_RJ3"
      },
      "execution_count": null,
      "outputs": []
    },
    {
      "cell_type": "markdown",
      "source": [
        "### 収率計算"
      ],
      "metadata": {
        "id": "_Q-y1Sg3sws4"
      }
    },
    {
      "cell_type": "code",
      "source": [
        "#m = df.iloc[6:-6,6:-6].median().median()\n",
        "#p = df.iloc[6:-6,6:-6][(df>=m-w)&(df<=m+w)].count().sum() /df.iloc[6:-6,6:-6].size\n",
        "#p = df.iloc[6:-6,9:-9][(df>=-w)&(df<=w)].count().sum() /df.iloc[6:-6,9:-9].size\n",
        "p = df[(df>=m-w)&(df<=m+w)].count().sum() /df.size\n",
        "print(m,p)"
      ],
      "metadata": {
        "id": "VUo9J1DNr3L1",
        "outputId": "f9c7cd32-9359-4322-c5da-f1a31332339c",
        "colab": {
          "base_uri": "https://localhost:8080/"
        }
      },
      "execution_count": null,
      "outputs": [
        {
          "output_type": "stream",
          "name": "stdout",
          "text": [
            "0.8892746913580247\n"
          ]
        }
      ]
    },
    {
      "cell_type": "code",
      "source": [
        "print(df.shape)"
      ],
      "metadata": {
        "id": "NKHR1Mk8zjyh",
        "outputId": "cc2e21e8-a9d2-4a05-e3ee-225b2a604b71",
        "colab": {
          "base_uri": "https://localhost:8080/"
        }
      },
      "execution_count": null,
      "outputs": [
        {
          "output_type": "stream",
          "name": "stdout",
          "text": [
            "(61, 302)\n"
          ]
        }
      ]
    },
    {
      "cell_type": "code",
      "source": [
        "df.to_csv(file_name+'(z).csv', index=False)\n"
      ],
      "metadata": {
        "id": "ThQhERCiHRgi"
      },
      "execution_count": null,
      "outputs": []
    },
    {
      "cell_type": "markdown",
      "source": [
        "### memo"
      ],
      "metadata": {
        "id": "murejdBxzXOC"
      }
    },
    {
      "cell_type": "code",
      "source": [
        "dfa = pd.DataFrame(index=np.arange(46), columns=np.arange(5))\n",
        "for i in range(46):\n",
        "    for j in range(5):\n",
        "        max=df.iloc[i:i+1, j*20:j*20+19].max().max()\n",
        "        min=df.iloc[i:i+1, j*20:j*20+19].min().min()\n",
        " #       men=df.iloc[i:i+1, j*30:j*30+29].mean().mean()\n",
        "        dfa.iloc[i, j] = (max-min)"
      ],
      "metadata": {
        "id": "tUdFQFFUM8_A"
      },
      "execution_count": null,
      "outputs": []
    },
    {
      "cell_type": "code",
      "source": [
        "dfa = pd.DataFrame(index=np.arange(15), columns=np.arange(16))\n",
        "for i in range(15):\n",
        "    for j in range(16):\n",
        "        dfa.iloc[i, j] = df.iloc[i*3:i*3+2, j*200:j*200+199][(df > 0.1)].median().median()"
      ],
      "metadata": {
        "id": "-DY9vUqyJ8V4"
      },
      "execution_count": null,
      "outputs": []
    },
    {
      "cell_type": "code",
      "source": [
        "ma = dfa.median().median()\n",
        "w=ma*0.05\n",
        "dfa[(dfa>=ma-w)&(dfa<=ma+w)]=ma\n",
        "dfa = dfa.fillna(0).replace([np.inf, -np.inf], 0)\n",
        "dfa = dfa.apply(pd.to_numeric, errors='coerce').fillna(0)\n",
        "\n",
        "plt.imshow(dfa.values)\n",
        "plt.colorbar(label='µm')#plt.axis('scaled')\n",
        "\n",
        "plt.show()"
      ],
      "metadata": {
        "id": "1q74O6DYQG4n"
      },
      "execution_count": null,
      "outputs": []
    },
    {
      "cell_type": "code",
      "source": [
        "plt.hist(df.values.flatten(), bins=50,range=(0.02,0.06))\n",
        "plt.show()\n",
        "print(df.median().median())"
      ],
      "metadata": {
        "id": "QL9VzXANwL8m",
        "outputId": "5308d4d0-6797-4808-caa8-919b8492f21c",
        "colab": {
          "base_uri": "https://localhost:8080/",
          "height": 448
        }
      },
      "execution_count": null,
      "outputs": [
        {
          "output_type": "display_data",
          "data": {
            "text/plain": [
              "<Figure size 640x480 with 1 Axes>"
            ],
            "image/png": "[encoded data removed]"
          },
          "metadata": {}
        },
        {
          "output_type": "stream",
          "name": "stdout",
          "text": [
            "0.041669999999999985\n"
          ]
        }
      ]
    },
    {
      "cell_type": "markdown",
      "source": [
        "## 収率"
      ],
      "metadata": {
        "id": "7StVl8i1Tbxk"
      }
    },
    {
      "cell_type": "code",
      "source": [
        "import numpy as np\n",
        "from mpl_toolkits.mplot3d import Axes3D\n",
        "\n",
        "X = df.index.values\n",
        "Y = df.columns.values\n",
        "Z = df.values\n",
        "\n",
        "fig = plt.figure()\n",
        "ax = fig.add_subplot(111, projection='3d')\n",
        "ax.contour3D(Y, X, Z, 100, cmap='seismic')\n",
        "ax.set_ylim(X.min(),X.max())\n",
        "ax.set_xlim(0,120)\n",
        "plt.show()"
      ],
      "metadata": {
        "id": "T0Nu8sGKtQfY"
      },
      "execution_count": null,
      "outputs": []
    },
    {
      "cell_type": "markdown",
      "source": [
        "差分"
      ],
      "metadata": {
        "id": "aIGG1hdJZNyR"
      }
    },
    {
      "cell_type": "code",
      "source": [
        "file_name = \"240930-2.csv\" # @param {type:\"string\"}\n",
        "df = pd.read_csv(\"/content/\"+file_name, encoding=encoding, skiprows=15)#\n",
        "df = df.drop(df.columns[[0, -1]], axis=1)\n",
        "\n",
        "file_name = \"240930-2-dev.csv\" # @param {type:\"string\"}\n",
        "t = 0.733 # @param {type:\"number\"}\n",
        "x = 0.05 # @param {type:\"number\"}\n",
        "dfb=df\n",
        "df = pd.read_csv(\"/content/\"+file_name, encoding=encoding, skiprows=15)#\n",
        "df = df.drop(df.columns[[0, -1]], axis=1)\n",
        "df=dfb-df+t\n",
        "df[(df>x)] = x\n",
        "df[(df<0)] = 0"
      ],
      "metadata": {
        "id": "mrmrIT26XAxW"
      },
      "execution_count": null,
      "outputs": []
    },
    {
      "cell_type": "code",
      "source": [
        "df = df.iloc[8:75, 10:110]\n",
        "#df = df.iloc[:, :-11]\n",
        "#pall = df[(df>=m-w)&(df<=m+w)].count().sum()   /df.size#pinn = df.iloc[9:120,9:120][(df>=m-w)&(df<=m+w)].count().sum() /df.iloc[9:120, 9:120].size#pinn = df.iloc[4:60,9:120][(df>=m-w)&(df<=m+w)].count().sum() /df.iloc[4:60,9:120].size\n",
        "##\n",
        "pall = df.iloc[4:126,9:120][(df>=m-w)&(df<=m+w)].count().sum() /df.iloc[4:126,9:120].size\n",
        "#pall = df.iloc[2:63,9:120][(df>=m-w)&(df<=m+w)].count().sum() /df.iloc[2:63,9:120].size\n",
        "##\n",
        "pinn = df.iloc[9:120,20:105][(df>=m-w)&(df<=m+w)].count().sum() /df.iloc[9:120,20:105].size\n",
        "#pinn = df.iloc[4:60,19:110][(df>=m-w)&(df<=m+w)].count().sum() /df.iloc[4:60,19:110].size\n",
        "##pall =round(pall*100,1)pinn =round(pinn*100,1)\n",
        "#df.iloc[2:63,9:120]=m-x\n",
        "#df.iloc[4:60,19:110]=m+x\n",
        "###\n",
        "##pall = df.iloc[4:126,9:120][(df>=m-w)&(df<=m+w)].count().sum() /df.iloc[4:126,9:120].size\n",
        "#pinn = df.iloc[9:120,20:105][(df>=m-w)&(df<=m+w)].count().sum() /df.iloc[9:120,20:105].size\n",
        "##pall =round(pall*100,1)\n",
        "##pinn =round(pinn*100,1)\n",
        "#plt.title(str(pall)+\" %\", loc='right', color='darkgreen')\n",
        "#plt.title(str(pinn)+\" %\", loc='center', color='black')"
      ],
      "metadata": {
        "id": "pGXGkBoVSfss"
      },
      "execution_count": null,
      "outputs": []
    },
    {
      "cell_type": "code",
      "source": [
        "fig, ax = plt.subplots()\n",
        "cmap = plt.get_cmap('bwr')\n",
        "norm = mcolors.Normalize(vmin=m-x, vmax=m+x)#(vmin=df.min().min(), vmax=df.max().max())\n",
        "\n",
        "im = ax.imshow(df, cmap=cmap, norm=norm)\n",
        "ax.set_title(str(pall)+\" %\", loc='right', color='darkgreen')\n",
        "ax.set_title(str(pinn)+\" %\", loc='center', color='black')\n",
        "print(file_name+\".png\")\n",
        "plt.show()"
      ],
      "metadata": {
        "id": "wj5dZe2Xcp5P"
      },
      "execution_count": null,
      "outputs": []
    },
    {
      "source": [
        "df[(df>=m-w)&(df<=m+w)] = m\n",
        "#df.iloc[23:41, 41:59] = m\n",
        "norm = mcolors.Normalize(vmin=m-x, vmax=m+x)#(vmin=df.min().min(), vmax=df.max().max())\n",
        "cmap = plt.get_cmap('bwr')\n",
        "fig, ax = plt.subplots()\n",
        "im = ax.imshow(df, cmap=cmap, norm=norm)\n",
        "\n",
        "ax.set_xticks(np.arange(0, 131, step=10))\n",
        "ax.set_yticks(np.arange(0, 131, step=10))\n",
        "ax.set_title(str(round(m*1000,1))+\"µ\", loc='left') #makuatsu\n",
        "ax.set_title(str(pall)+\"% 130□\", loc='right')\n",
        "ax.set_title(str(pinn)+\"% 110□\", loc='center')\n",
        "#ax.grid()\n",
        "#ax.set_ylim(10, 140)#ax.set_xlim(-65,65)\n",
        "print(file_name+\".png\")\n",
        "#fig.colorbar(im)\n",
        "plt.show()#"
      ],
      "cell_type": "code",
      "metadata": {
        "id": "X20cT-A6pemc"
      },
      "execution_count": null,
      "outputs": []
    },
    {
      "cell_type": "markdown",
      "source": [
        "等高線"
      ],
      "metadata": {
        "id": "QVybWLFP_vbw"
      }
    },
    {
      "cell_type": "code",
      "source": [
        "fig, ax = plt.subplots()\n",
        "\n",
        "norm = mcolors.Normalize(vmin=m-x, vmax=m+x)\n",
        "cmap = plt.get_cmap('bwr')\n",
        "im = ax.imshow(df, cmap=cmap, norm=norm)\n",
        "#plt.figure(figsize=(5, 4))\n",
        "#ax.set_xticks(np.arange(0, 131, step=10))\n",
        "#ax.set_yticks(np.arange(0, 131, step=10))\n",
        "for i in range(0, 14, 13):\n",
        "    plt.plot([(130-114)/2+i*114/13, (130-114)/2+i*114/13], [(130-122)/2, (130+122)/2],linestyle = \"--\", color='darkgreen', linewidth=2)\n",
        "for j in range(0, 21, 20):\n",
        "    plt.plot([(130-114)/2, (130+114)/2],[(130-122)/2+j*122/20, (130-122)/2+j*122/20],linestyle = \"--\", color='darkgreen', linewidth=2)\n",
        "for i in range(1, 12, 10):\n",
        "    plt.plot([(130-114)/2+i*114/13, (130-114)/2+i*114/13], [(130-110)/2, (130+110)/2],linestyle = \"--\", color='black', linewidth=2)\n",
        "for j in range(1, 20, 18):\n",
        "    plt.plot([(130-95)/2, 104],[(130-122)/2+j*122/20, (130-122)/2+j*122/20],linestyle = \"--\", color='black', linewidth=2)\n",
        "\n",
        "plt.show()"
      ],
      "metadata": {
        "id": "ao6iAhP4igc4"
      },
      "execution_count": null,
      "outputs": []
    }
  ],
  "metadata": {
    "colab": {
      "name": "Colaboratory へようこそ",
      "provenance": []
    },
    "kernelspec": {
      "display_name": "Python 3",
      "name": "python3"
    }
  },
  "nbformat": 4,
  "nbformat_minor": 0
}