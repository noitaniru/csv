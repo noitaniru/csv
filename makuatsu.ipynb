{
  "cells": [
    {
      "cell_type": "markdown",
      "source": [
        "#開始"
      ],
      "metadata": {
        "id": "a2GkfPDp3PPV"
      }
    },
    {
      "cell_type": "code",
      "source": [
        "import csv\n",
        "import pandas as pd\n",
        "import os\n",
        "import glob\n",
        "encoding = 'SHIFT_JIS'\n",
        "import matplotlib.pyplot as plt\n",
        "import matplotlib.colors as mcolors\n",
        "import numpy as np\n",
        "#files = glob.glob('/content/*.csv')\n",
        "files = os.listdir('/content')\n",
        "for file in files:\n",
        "  print(file)"
      ],
      "metadata": {
        "id": "opJICkZrhZip",
        "colab": {
          "base_uri": "https://localhost:8080/"
        },
        "outputId": "eabf6e96-be77-44aa-d88e-6c64ec991e75"
      },
      "execution_count": 51,
      "outputs": [
        {
          "output_type": "stream",
          "name": "stdout",
          "text": [
            ".config\n",
            "25031301.csv\n",
            "25031702.csv\n",
            "25031203.csv\n",
            "25031302.csv\n",
            "25031303.csv\n",
            "25031703.csv\n",
            "25031304.csv\n",
            "25031705.csv\n",
            "25031201.csv\n",
            "25031104.csv\n",
            "sample_data\n"
          ]
        }
      ]
    },
    {
      "cell_type": "markdown",
      "source": [
        "### グラフ表示"
      ],
      "metadata": {
        "id": "eUnHm9sfBNtg"
      }
    },
    {
      "cell_type": "code",
      "source": [
        "file_name = \"25031104.csv\" # @param {type:\"string\"}\n",
        "df = pd.read_csv(\"/content/\"+file_name, encoding=encoding, skiprows=15)#\n",
        "df = df.drop(df.columns[[0, 0]], axis=1)\n",
        "t = 0.73 # @param {type:\"number\"}#\n",
        "df = df - t#0.41520.7263\n",
        "df[(df<=0)] = 0\n",
        "#df[(df>=m-w)&(df<=m+w)] = m\n",
        "#df.to_csv(file_name+'(z).csv', index=False)\n",
        "#df = df - m"
      ],
      "metadata": {
        "id": "0qRYJWbd6tl7"
      },
      "execution_count": 57,
      "outputs": []
    },
    {
      "source": [
        "#x = 0.05 # @param {type:\"number\"}\n",
        "#df=df.iloc[5:-3, 28:-12]\n",
        "#\n",
        "df=df.iloc[4:-4, 20:-20]\n",
        "m = df.median().median()\n",
        "wl =0.003#0.03*m#\n",
        "w = 0.006#0.15*m\n",
        "x = 0.030\n",
        "#df[(df>=m-wl)&(df<=m+wl)]=m#\n",
        "#df.iloc[14:-14, 60:-60][(df>=m+wl)]=m\n",
        "#\n",
        "df[(df>=m+x)] = m+x#\n",
        "df[(df<=m-x)] = m-x#\n",
        "df.iloc[0, 0] = m+x#\n",
        "df.iloc[0, 1] = m-x\n",
        "pl=df[(df>=m-wl)&(df<=m+wl)].count().sum() /df.size\n",
        "p = df[(df>=m-w)&(df<=m+w)].count().sum() /df.size\n",
        "color = \"bwr\" # @param {type:\"string\"}\n",
        "#\n",
        "l = 36 # @param {type:\"number\"}\n",
        "cmap = plt.get_cmap(color)\n",
        "plt.figure(figsize=(5, 4))\n",
        "#plt.imshow(df.values,cmap=cmap,aspect=4, vmin=m+x, vmax=m-x)\n",
        "plt.suptitle(file_name, fontsize=15)\n",
        "plt.contourf(df.values,cmap=cmap,levels=l)\n",
        "plt.colorbar(label='µm')#plt.axis('scaled')label='µm'\n",
        "plt.axis()\n",
        "plt.xticks([])\n",
        "plt.yticks([])\n",
        "print(file_name+\".png\")\n",
        "print(pl,p,m,w,df.shape)#print(df.shape)\n",
        "plt.show()"
      ],
      "cell_type": "code",
      "metadata": {
        "id": "KXS_CeemUTgJ",
        "outputId": "cc3eed92-91c0-4793-feb0-aa36b0cee9c4",
        "colab": {
          "base_uri": "https://localhost:8080/",
          "height": 428
        }
      },
      "execution_count": 58,
      "outputs": [
        {
          "output_type": "stream",
          "name": "stdout",
          "text": [
            "25031104.csv.png\n",
            "0.43353017427624946 0.7691199769552067 0.11546000000000001 0.006 (53, 262)\n"
          ]
        },
        {
          "output_type": "display_data",
          "data": {
            "text/plain": [
              "<Figure size 500x400 with 2 Axes>"
            ],
            "image/png": "[encoded data removed]"
          },
          "metadata": {}
        }
      ]
    },
    {
      "cell_type": "code",
      "source": [
        "k=20\n",
        "first_row = df.iloc[k]\n",
        "m = df.iloc[k].median()\n",
        "wl=m*0.03\n",
        "plt.figure(figsize=(8,3))  # Adjust figure size as needed\n",
        "#colors = ['green' if value > m+wl else  'limegreen' for value in  first_row.values]\n",
        "#\n",
        "colors = ['green' if value > m+wl else 'lime' if value < m - wl else 'limegreen' for value in  first_row.values]\n",
        "plt.bar(first_row.index, first_row.values, width=1, color=colors)\n",
        "plt.xticks(np.arange(0, 300, 10))\n",
        "#plt.yticks(np.arange(m - x, m + x + 110.005, 110.005))\n",
        "#plt.xticks(np.arange(0, 50, 10))\n",
        "#plt.grid(axis='x')\n",
        "plt.grid(axis='y')\n",
        "#plt.xlabel(\"Column Index\")\n",
        "plt.title(file_name)\n",
        "plt.show()"
      ],
      "metadata": {
        "id": "MH00mZjV1nNS",
        "outputId": "06a4be90-ad0a-447f-c881-b1f3ff08236e",
        "colab": {
          "base_uri": "https://localhost:8080/",
          "height": 314
        }
      },
      "execution_count": 50,
      "outputs": [
        {
          "output_type": "display_data",
          "data": {
            "text/plain": [
              "<Figure size 800x300 with 1 Axes>"
            ],
            "image/png": "[encoded data removed]"
          },
          "metadata": {}
        }
      ]
    },
    {
      "cell_type": "code",
      "source": [
        "df.iloc[:,:]=1\n",
        "df.iloc[5:6,:] = 0\n",
        "df.iloc[-6:-5,:] = 0\n",
        "df.iloc[:,20:21] = 0\n",
        "df.iloc[:,-21:-20] = 0\n",
        "plt.figure(figsize=(5, 4))\n",
        "cmap = plt.get_cmap(\"grey\")\n",
        "plt.imshow(df.values,aspect=4,cmap=cmap)\n",
        "plt.colorbar(label='µm')"
      ],
      "metadata": {
        "id": "KVd4DdfYMGka"
      },
      "execution_count": null,
      "outputs": []
    },
    {
      "cell_type": "code",
      "source": [
        "x = 0.01\n",
        "wl=0.004\n",
        "first_column = df.iloc[:,40]\n",
        "plt.figure(figsize=(14,2))  # Adjust figure size as needed\n",
        "colors = ['green' if value > m+wl else 'lime' if value < m - wl else 'limegreen' for value in  first_column.values]\n",
        "\n",
        "plt.bar(first_column.index, first_column.values, width=1, color=colors)\n",
        "plt.ylim(m-x, m+x)\n",
        "plt.yticks(np.arange(m - x, m + x + 0.005, 0.005))\n",
        "plt.xticks(np.arange(0, 150, 10))\n",
        "plt.grid(axis='x')\n",
        "plt.grid(axis='y')\n",
        "plt.grid(linewidth=1.5)\n",
        "#plt.xlabel(\"Column Index\")\n",
        "plt.ylabel(\"e\")\n",
        "plt.title(file_name)\n",
        "plt.show()"
      ],
      "metadata": {
        "id": "WsIt0kgb_RJ3",
        "outputId": "1fedf8a2-607d-402b-96eb-d6126eac40e3",
        "colab": {
          "base_uri": "https://localhost:8080/",
          "height": 199
        }
      },
      "execution_count": null,
      "outputs": [
        {
          "output_type": "display_data",
          "data": {
            "text/plain": [
              "<Figure size 1400x200 with 1 Axes>"
            ],
            "image/png": "[encoded data removed]"
          },
          "metadata": {}
        }
      ]
    },
    {
      "cell_type": "markdown",
      "source": [
        "### 収率計算"
      ],
      "metadata": {
        "id": "_Q-y1Sg3sws4"
      }
    },
    {
      "cell_type": "code",
      "source": [
        "#m = df.iloc[6:-6,6:-6].median().median()\n",
        "#p = df.iloc[6:-6,6:-6][(df>=m-w)&(df<=m+w)].count().sum() /df.iloc[6:-6,6:-6].size\n",
        "#p = df.iloc[6:-6,9:-9][(df>=-w)&(df<=w)].count().sum() /df.iloc[6:-6,9:-9].size\n",
        "p = df[(df>=m-w)&(df<=m+w)].count().sum() /df.size\n",
        "print(m,p)"
      ],
      "metadata": {
        "id": "VUo9J1DNr3L1",
        "outputId": "f9c7cd32-9359-4322-c5da-f1a31332339c",
        "colab": {
          "base_uri": "https://localhost:8080/"
        }
      },
      "execution_count": null,
      "outputs": [
        {
          "output_type": "stream",
          "name": "stdout",
          "text": [
            "0.8892746913580247\n"
          ]
        }
      ]
    },
    {
      "cell_type": "code",
      "source": [
        "print(df.shape)"
      ],
      "metadata": {
        "id": "NKHR1Mk8zjyh",
        "outputId": "cc2e21e8-a9d2-4a05-e3ee-225b2a604b71",
        "colab": {
          "base_uri": "https://localhost:8080/"
        }
      },
      "execution_count": 182,
      "outputs": [
        {
          "output_type": "stream",
          "name": "stdout",
          "text": [
            "(61, 302)\n"
          ]
        }
      ]
    },
    {
      "cell_type": "code",
      "source": [
        "df.to_csv(file_name+'(z).csv', index=False)\n"
      ],
      "metadata": {
        "id": "ThQhERCiHRgi"
      },
      "execution_count": null,
      "outputs": []
    },
    {
      "cell_type": "markdown",
      "source": [
        "### memo"
      ],
      "metadata": {
        "id": "murejdBxzXOC"
      }
    },
    {
      "cell_type": "code",
      "source": [
        "dfa = pd.DataFrame(index=np.arange(46), columns=np.arange(5))\n",
        "for i in range(46):\n",
        "    for j in range(5):\n",
        "        max=df.iloc[i:i+1, j*20:j*20+19].max().max()\n",
        "        min=df.iloc[i:i+1, j*20:j*20+19].min().min()\n",
        " #       men=df.iloc[i:i+1, j*30:j*30+29].mean().mean()\n",
        "        dfa.iloc[i, j] = (max-min)"
      ],
      "metadata": {
        "id": "tUdFQFFUM8_A"
      },
      "execution_count": null,
      "outputs": []
    },
    {
      "cell_type": "code",
      "source": [
        "dfa = pd.DataFrame(index=np.arange(15), columns=np.arange(16))\n",
        "for i in range(15):\n",
        "    for j in range(16):\n",
        "        dfa.iloc[i, j] = df.iloc[i*3:i*3+2, j*200:j*200+199][(df > 0.1)].median().median()"
      ],
      "metadata": {
        "id": "-DY9vUqyJ8V4"
      },
      "execution_count": null,
      "outputs": []
    },
    {
      "cell_type": "code",
      "source": [
        "ma = dfa.median().median()\n",
        "w=ma*0.05\n",
        "dfa[(dfa>=ma-w)&(dfa<=ma+w)]=ma\n",
        "dfa = dfa.fillna(0).replace([np.inf, -np.inf], 0)\n",
        "dfa = dfa.apply(pd.to_numeric, errors='coerce').fillna(0)\n",
        "\n",
        "plt.imshow(dfa.values)\n",
        "plt.colorbar(label='µm')#plt.axis('scaled')\n",
        "\n",
        "plt.show()"
      ],
      "metadata": {
        "id": "1q74O6DYQG4n",
        "outputId": "7a7cb8ee-5130-409e-8168-c1fa019f5104",
        "colab": {
          "base_uri": "https://localhost:8080/",
          "height": 430
        }
      },
      "execution_count": null,
      "outputs": [
        {
          "output_type": "display_data",
          "data": {
            "text/plain": [
              "<Figure size 640x480 with 2 Axes>"
            ],
            "image/png": "[encoded data removed]"
          },
          "metadata": {}
        }
      ]
    },
    {
      "cell_type": "code",
      "source": [
        "plt.hist(dfa.values.flatten(), bins=50,range=(0.002,0.01))\n",
        "plt.show()\n",
        "print(dfa.median().median())"
      ],
      "metadata": {
        "id": "QL9VzXANwL8m"
      },
      "execution_count": null,
      "outputs": []
    },
    {
      "cell_type": "markdown",
      "source": [
        "## 収率"
      ],
      "metadata": {
        "id": "7StVl8i1Tbxk"
      }
    },
    {
      "cell_type": "code",
      "source": [
        "import numpy as np\n",
        "from mpl_toolkits.mplot3d import Axes3D\n",
        "\n",
        "X = df.index.values\n",
        "Y = df.columns.values\n",
        "Z = df.values\n",
        "\n",
        "fig = plt.figure()\n",
        "ax = fig.add_subplot(111, projection='3d')\n",
        "ax.contour3D(Y, X, Z, 100, cmap='seismic')\n",
        "ax.set_ylim(X.min(),X.max())\n",
        "ax.set_xlim(0,120)\n",
        "plt.show()"
      ],
      "metadata": {
        "id": "T0Nu8sGKtQfY"
      },
      "execution_count": null,
      "outputs": []
    },
    {
      "cell_type": "markdown",
      "source": [
        "差分"
      ],
      "metadata": {
        "id": "aIGG1hdJZNyR"
      }
    },
    {
      "cell_type": "code",
      "source": [
        "file_name = \"240930-2.csv\" # @param {type:\"string\"}\n",
        "df = pd.read_csv(\"/content/\"+file_name, encoding=encoding, skiprows=15)#\n",
        "df = df.drop(df.columns[[0, -1]], axis=1)\n",
        "\n",
        "file_name = \"240930-2-dev.csv\" # @param {type:\"string\"}\n",
        "t = 0.733 # @param {type:\"number\"}\n",
        "x = 0.05 # @param {type:\"number\"}\n",
        "dfb=df\n",
        "df = pd.read_csv(\"/content/\"+file_name, encoding=encoding, skiprows=15)#\n",
        "df = df.drop(df.columns[[0, -1]], axis=1)\n",
        "df=dfb-df+t\n",
        "df[(df>x)] = x\n",
        "df[(df<0)] = 0"
      ],
      "metadata": {
        "id": "mrmrIT26XAxW"
      },
      "execution_count": null,
      "outputs": []
    },
    {
      "cell_type": "code",
      "source": [
        "df = df.iloc[8:75, 10:110]\n",
        "#df = df.iloc[:, :-11]\n",
        "#pall = df[(df>=m-w)&(df<=m+w)].count().sum()   /df.size#pinn = df.iloc[9:120,9:120][(df>=m-w)&(df<=m+w)].count().sum() /df.iloc[9:120, 9:120].size#pinn = df.iloc[4:60,9:120][(df>=m-w)&(df<=m+w)].count().sum() /df.iloc[4:60,9:120].size\n",
        "##\n",
        "pall = df.iloc[4:126,9:120][(df>=m-w)&(df<=m+w)].count().sum() /df.iloc[4:126,9:120].size\n",
        "#pall = df.iloc[2:63,9:120][(df>=m-w)&(df<=m+w)].count().sum() /df.iloc[2:63,9:120].size\n",
        "##\n",
        "pinn = df.iloc[9:120,20:105][(df>=m-w)&(df<=m+w)].count().sum() /df.iloc[9:120,20:105].size\n",
        "#pinn = df.iloc[4:60,19:110][(df>=m-w)&(df<=m+w)].count().sum() /df.iloc[4:60,19:110].size\n",
        "##pall =round(pall*100,1)pinn =round(pinn*100,1)\n",
        "#df.iloc[2:63,9:120]=m-x\n",
        "#df.iloc[4:60,19:110]=m+x\n",
        "###\n",
        "##pall = df.iloc[4:126,9:120][(df>=m-w)&(df<=m+w)].count().sum() /df.iloc[4:126,9:120].size\n",
        "#pinn = df.iloc[9:120,20:105][(df>=m-w)&(df<=m+w)].count().sum() /df.iloc[9:120,20:105].size\n",
        "##pall =round(pall*100,1)\n",
        "##pinn =round(pinn*100,1)\n",
        "#plt.title(str(pall)+\" %\", loc='right', color='darkgreen')\n",
        "#plt.title(str(pinn)+\" %\", loc='center', color='black')"
      ],
      "metadata": {
        "id": "pGXGkBoVSfss"
      },
      "execution_count": null,
      "outputs": []
    },
    {
      "cell_type": "code",
      "source": [
        "fig, ax = plt.subplots()\n",
        "cmap = plt.get_cmap('bwr')\n",
        "norm = mcolors.Normalize(vmin=m-x, vmax=m+x)#(vmin=df.min().min(), vmax=df.max().max())\n",
        "\n",
        "im = ax.imshow(df, cmap=cmap, norm=norm)\n",
        "ax.set_title(str(pall)+\" %\", loc='right', color='darkgreen')\n",
        "ax.set_title(str(pinn)+\" %\", loc='center', color='black')\n",
        "print(file_name+\".png\")\n",
        "plt.show()"
      ],
      "metadata": {
        "id": "wj5dZe2Xcp5P"
      },
      "execution_count": null,
      "outputs": []
    },
    {
      "source": [
        "df[(df>=m-w)&(df<=m+w)] = m\n",
        "#df.iloc[23:41, 41:59] = m\n",
        "norm = mcolors.Normalize(vmin=m-x, vmax=m+x)#(vmin=df.min().min(), vmax=df.max().max())\n",
        "cmap = plt.get_cmap('bwr')\n",
        "fig, ax = plt.subplots()\n",
        "im = ax.imshow(df, cmap=cmap, norm=norm)\n",
        "\n",
        "ax.set_xticks(np.arange(0, 131, step=10))\n",
        "ax.set_yticks(np.arange(0, 131, step=10))\n",
        "ax.set_title(str(round(m*1000,1))+\"µ\", loc='left') #makuatsu\n",
        "ax.set_title(str(pall)+\"% 130□\", loc='right')\n",
        "ax.set_title(str(pinn)+\"% 110□\", loc='center')\n",
        "#ax.grid()\n",
        "#ax.set_ylim(10, 140)#ax.set_xlim(-65,65)\n",
        "print(file_name+\".png\")\n",
        "#fig.colorbar(im)\n",
        "plt.show()#"
      ],
      "cell_type": "code",
      "metadata": {
        "id": "X20cT-A6pemc"
      },
      "execution_count": null,
      "outputs": []
    },
    {
      "cell_type": "markdown",
      "source": [
        "等高線"
      ],
      "metadata": {
        "id": "QVybWLFP_vbw"
      }
    },
    {
      "cell_type": "code",
      "source": [
        "fig, ax = plt.subplots()\n",
        "\n",
        "norm = mcolors.Normalize(vmin=m-x, vmax=m+x)\n",
        "cmap = plt.get_cmap('bwr')\n",
        "im = ax.imshow(df, cmap=cmap, norm=norm)\n",
        "#plt.figure(figsize=(5, 4))\n",
        "#ax.set_xticks(np.arange(0, 131, step=10))\n",
        "#ax.set_yticks(np.arange(0, 131, step=10))\n",
        "for i in range(0, 14, 13):\n",
        "    plt.plot([(130-114)/2+i*114/13, (130-114)/2+i*114/13], [(130-122)/2, (130+122)/2],linestyle = \"--\", color='darkgreen', linewidth=2)\n",
        "for j in range(0, 21, 20):\n",
        "    plt.plot([(130-114)/2, (130+114)/2],[(130-122)/2+j*122/20, (130-122)/2+j*122/20],linestyle = \"--\", color='darkgreen', linewidth=2)\n",
        "for i in range(1, 12, 10):\n",
        "    plt.plot([(130-114)/2+i*114/13, (130-114)/2+i*114/13], [(130-110)/2, (130+110)/2],linestyle = \"--\", color='black', linewidth=2)\n",
        "for j in range(1, 20, 18):\n",
        "    plt.plot([(130-95)/2, 104],[(130-122)/2+j*122/20, (130-122)/2+j*122/20],linestyle = \"--\", color='black', linewidth=2)\n",
        "\n",
        "plt.show()"
      ],
      "metadata": {
        "id": "ao6iAhP4igc4"
      },
      "execution_count": null,
      "outputs": []
    }
  ],
  "metadata": {
    "colab": {
      "name": "Colaboratory へようこそ",
      "provenance": []
    },
    "kernelspec": {
      "display_name": "Python 3",
      "name": "python3"
    }
  },
  "nbformat": 4,
  "nbformat_minor": 0
}